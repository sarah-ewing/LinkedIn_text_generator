{
 "cells": [
  {
   "cell_type": "code",
   "execution_count": 1,
   "id": "signed-transcript",
   "metadata": {},
   "outputs": [],
   "source": [
    "import pandas as pd\n",
    "pd.options.display.max_colwidth = 900\n",
    "import os\n",
    "\n",
    "os.chdir('D:\\\\linkedin')\n",
    "meta = pd.read_csv('final_meta_data.csv',\",\")"
   ]
  },
  {
   "cell_type": "code",
   "execution_count": 2,
   "id": "sporting-converter",
   "metadata": {},
   "outputs": [
    {
     "data": {
      "text/html": [
       "<div>\n",
       "<style scoped>\n",
       "    .dataframe tbody tr th:only-of-type {\n",
       "        vertical-align: middle;\n",
       "    }\n",
       "\n",
       "    .dataframe tbody tr th {\n",
       "        vertical-align: top;\n",
       "    }\n",
       "\n",
       "    .dataframe thead th {\n",
       "        text-align: right;\n",
       "    }\n",
       "</style>\n",
       "<table border=\"1\" class=\"dataframe\">\n",
       "  <thead>\n",
       "    <tr style=\"text-align: right;\">\n",
       "      <th></th>\n",
       "      <th>job_title</th>\n",
       "      <th>individual_url</th>\n",
       "      <th>end_date</th>\n",
       "      <th>date_posted</th>\n",
       "      <th>description</th>\n",
       "      <th>employmentType</th>\n",
       "      <th>experienceRequirements</th>\n",
       "      <th>hiringOrganization</th>\n",
       "      <th>hiringType</th>\n",
       "      <th>hiringSubType</th>\n",
       "      <th>hiringDept</th>\n",
       "      <th>postalCode</th>\n",
       "      <th>latitude</th>\n",
       "      <th>longitude</th>\n",
       "      <th>state_name</th>\n",
       "      <th>duration</th>\n",
       "    </tr>\n",
       "  </thead>\n",
       "  <tbody>\n",
       "    <tr>\n",
       "      <th>0</th>\n",
       "      <td>Data Scientist</td>\n",
       "      <td>https://www.linkedin.com/jobs/view/data-scientist-at-the-walt-disney-company-2479066550?refId=84b3b944-1d69-4e7b-8fff-67a1791f9709trackingId=o96sKqG3OlkeLmz1EzJ%2Fig%3D%3Dposition=1pageNum=0trk=public_jobs_job-result-card_result-card_full-click</td>\n",
       "      <td>2021-05-08T19:53:20.000Z</td>\n",
       "      <td>2021-04-07T11:47:17.000Z</td>\n",
       "      <td>job_1_1.txt</td>\n",
       "      <td>FULL_TIME</td>\n",
       "      <td>Mid-Senior level</td>\n",
       "      <td>The Walt Disney Company</td>\n",
       "      <td>Marketing and Advertising</td>\n",
       "      <td>Online Media</td>\n",
       "      <td>Human Resources</td>\n",
       "      <td>91205</td>\n",
       "      <td>34.1378</td>\n",
       "      <td>-118.2425</td>\n",
       "      <td>California</td>\n",
       "      <td>2707563.0</td>\n",
       "    </tr>\n",
       "    <tr>\n",
       "      <th>1</th>\n",
       "      <td>Data Scientist</td>\n",
       "      <td>https://www.linkedin.com/jobs/view/data-scientist-at-linkedin-2482834318?refId=84b3b944-1d69-4e7b-8fff-67a1791f9709trackingId=yrqZxyHKzwIxe%2Fazwtf64A%3D%3Dposition=2pageNum=0trk=public_jobs_job-result-card_result-card_full-click</td>\n",
       "      <td>2021-05-09T16:01:05.000Z</td>\n",
       "      <td>2021-04-09T16:01:06.000Z</td>\n",
       "      <td>job_1_2.txt</td>\n",
       "      <td>CONTRACTOR</td>\n",
       "      <td>Mid-Senior level</td>\n",
       "      <td>LinkedIn</td>\n",
       "      <td>Internet</td>\n",
       "      <td>Alternative Dispute Resolution</td>\n",
       "      <td>Sunnyvale</td>\n",
       "      <td>94089</td>\n",
       "      <td>37.3983</td>\n",
       "      <td>-122.0006</td>\n",
       "      <td>California</td>\n",
       "      <td>2591999.0</td>\n",
       "    </tr>\n",
       "    <tr>\n",
       "      <th>2</th>\n",
       "      <td>Data amp Applied Scientist</td>\n",
       "      <td>https://www.linkedin.com/jobs/view/data-applied-scientist-at-microsoft-2467226861?refId=84b3b944-1d69-4e7b-8fff-67a1791f9709trackingId=%2B3L1VD%2FFikgwftK9s9XQyg%3D%3Dposition=3pageNum=0trk=public_jobs_job-result-card_result-card_full-click</td>\n",
       "      <td>2021-05-10T23:17:43.000Z</td>\n",
       "      <td>2021-03-26T23:46:59.000Z</td>\n",
       "      <td>job_1_3.txt</td>\n",
       "      <td>FULL_TIME</td>\n",
       "      <td>Not Applicable</td>\n",
       "      <td>Microsoft</td>\n",
       "      <td>Computer Hardware</td>\n",
       "      <td>Computer Software</td>\n",
       "      <td>Information Technology and Services</td>\n",
       "      <td>30355</td>\n",
       "      <td>33.8444</td>\n",
       "      <td>-84.4741</td>\n",
       "      <td>Georgia</td>\n",
       "      <td>3886244.0</td>\n",
       "    </tr>\n",
       "    <tr>\n",
       "      <th>3</th>\n",
       "      <td>Data Scientist</td>\n",
       "      <td>https://www.linkedin.com/jobs/view/data-scientist-at-walmart-2473682588?refId=84b3b944-1d69-4e7b-8fff-67a1791f9709trackingId=9JsjfDhDVrsRjIhBebD8hA%3D%3Dposition=4pageNum=0trk=public_jobs_job-result-card_result-card_full-click</td>\n",
       "      <td>2021-05-01T05:26:33.000Z</td>\n",
       "      <td>2021-04-01T05:26:39.000Z</td>\n",
       "      <td>job_1_4.txt</td>\n",
       "      <td>FULL_TIME</td>\n",
       "      <td>Entry level</td>\n",
       "      <td>Walmart</td>\n",
       "      <td>Information Technology and Services</td>\n",
       "      <td>Computer Software</td>\n",
       "      <td>Internet</td>\n",
       "      <td>94088</td>\n",
       "      <td>37.3688</td>\n",
       "      <td>-122.0363</td>\n",
       "      <td>California</td>\n",
       "      <td>2591994.0</td>\n",
       "    </tr>\n",
       "    <tr>\n",
       "      <th>4</th>\n",
       "      <td>Data Scientist</td>\n",
       "      <td>https://www.linkedin.com/jobs/view/data-scientist-at-amazon-2482815766?refId=84b3b944-1d69-4e7b-8fff-67a1791f9709trackingId=RNKsg8%2F4yfpxfqxW%2FFE4Qw%3D%3Dposition=5pageNum=0trk=public_jobs_job-result-card_result-card_full-click</td>\n",
       "      <td>2021-05-09T12:38:05.000Z</td>\n",
       "      <td>2021-04-09T12:38:06.000Z</td>\n",
       "      <td>job_1_5.txt</td>\n",
       "      <td>FULL_TIME</td>\n",
       "      <td>Not Applicable</td>\n",
       "      <td>Amazon</td>\n",
       "      <td>Computer Software</td>\n",
       "      <td>Information Technology and Services</td>\n",
       "      <td>Internet</td>\n",
       "      <td>98133</td>\n",
       "      <td>47.7377</td>\n",
       "      <td>-122.3431</td>\n",
       "      <td>Washington</td>\n",
       "      <td>2591999.0</td>\n",
       "    </tr>\n",
       "  </tbody>\n",
       "</table>\n",
       "</div>"
      ],
      "text/plain": [
       "                    job_title  \\\n",
       "0              Data Scientist   \n",
       "1              Data Scientist   \n",
       "2  Data amp Applied Scientist   \n",
       "3              Data Scientist   \n",
       "4              Data Scientist   \n",
       "\n",
       "                                                                                                                                                                                                                                         individual_url  \\\n",
       "0  https://www.linkedin.com/jobs/view/data-scientist-at-the-walt-disney-company-2479066550?refId=84b3b944-1d69-4e7b-8fff-67a1791f9709trackingId=o96sKqG3OlkeLmz1EzJ%2Fig%3D%3Dposition=1pageNum=0trk=public_jobs_job-result-card_result-card_full-click   \n",
       "1                 https://www.linkedin.com/jobs/view/data-scientist-at-linkedin-2482834318?refId=84b3b944-1d69-4e7b-8fff-67a1791f9709trackingId=yrqZxyHKzwIxe%2Fazwtf64A%3D%3Dposition=2pageNum=0trk=public_jobs_job-result-card_result-card_full-click   \n",
       "2      https://www.linkedin.com/jobs/view/data-applied-scientist-at-microsoft-2467226861?refId=84b3b944-1d69-4e7b-8fff-67a1791f9709trackingId=%2B3L1VD%2FFikgwftK9s9XQyg%3D%3Dposition=3pageNum=0trk=public_jobs_job-result-card_result-card_full-click   \n",
       "3                    https://www.linkedin.com/jobs/view/data-scientist-at-walmart-2473682588?refId=84b3b944-1d69-4e7b-8fff-67a1791f9709trackingId=9JsjfDhDVrsRjIhBebD8hA%3D%3Dposition=4pageNum=0trk=public_jobs_job-result-card_result-card_full-click   \n",
       "4                 https://www.linkedin.com/jobs/view/data-scientist-at-amazon-2482815766?refId=84b3b944-1d69-4e7b-8fff-67a1791f9709trackingId=RNKsg8%2F4yfpxfqxW%2FFE4Qw%3D%3Dposition=5pageNum=0trk=public_jobs_job-result-card_result-card_full-click   \n",
       "\n",
       "                   end_date               date_posted  description  \\\n",
       "0  2021-05-08T19:53:20.000Z  2021-04-07T11:47:17.000Z  job_1_1.txt   \n",
       "1  2021-05-09T16:01:05.000Z  2021-04-09T16:01:06.000Z  job_1_2.txt   \n",
       "2  2021-05-10T23:17:43.000Z  2021-03-26T23:46:59.000Z  job_1_3.txt   \n",
       "3  2021-05-01T05:26:33.000Z  2021-04-01T05:26:39.000Z  job_1_4.txt   \n",
       "4  2021-05-09T12:38:05.000Z  2021-04-09T12:38:06.000Z  job_1_5.txt   \n",
       "\n",
       "  employmentType experienceRequirements       hiringOrganization  \\\n",
       "0      FULL_TIME       Mid-Senior level  The Walt Disney Company   \n",
       "1     CONTRACTOR       Mid-Senior level                 LinkedIn   \n",
       "2      FULL_TIME         Not Applicable                Microsoft   \n",
       "3      FULL_TIME            Entry level                  Walmart   \n",
       "4      FULL_TIME         Not Applicable                   Amazon   \n",
       "\n",
       "                            hiringType                        hiringSubType  \\\n",
       "0            Marketing and Advertising                         Online Media   \n",
       "1                             Internet       Alternative Dispute Resolution   \n",
       "2                    Computer Hardware                    Computer Software   \n",
       "3  Information Technology and Services                    Computer Software   \n",
       "4                    Computer Software  Information Technology and Services   \n",
       "\n",
       "                            hiringDept  postalCode  latitude  longitude  \\\n",
       "0                      Human Resources       91205   34.1378  -118.2425   \n",
       "1                            Sunnyvale       94089   37.3983  -122.0006   \n",
       "2  Information Technology and Services       30355   33.8444   -84.4741   \n",
       "3                             Internet       94088   37.3688  -122.0363   \n",
       "4                             Internet       98133   47.7377  -122.3431   \n",
       "\n",
       "   state_name   duration  \n",
       "0  California  2707563.0  \n",
       "1  California  2591999.0  \n",
       "2     Georgia  3886244.0  \n",
       "3  California  2591994.0  \n",
       "4  Washington  2591999.0  "
      ]
     },
     "execution_count": 2,
     "metadata": {},
     "output_type": "execute_result"
    }
   ],
   "source": [
    "meta.head()"
   ]
  },
  {
   "cell_type": "code",
   "execution_count": 3,
   "id": "forty-details",
   "metadata": {},
   "outputs": [
    {
     "data": {
      "text/plain": [
       "job_title                  object\n",
       "individual_url             object\n",
       "end_date                   object\n",
       "date_posted                object\n",
       "description                object\n",
       "employmentType             object\n",
       "experienceRequirements     object\n",
       "hiringOrganization         object\n",
       "hiringType                 object\n",
       "hiringSubType              object\n",
       "hiringDept                 object\n",
       "postalCode                  int64\n",
       "latitude                  float64\n",
       "longitude                 float64\n",
       "state_name                 object\n",
       "duration                  float64\n",
       "dtype: object"
      ]
     },
     "execution_count": 3,
     "metadata": {},
     "output_type": "execute_result"
    }
   ],
   "source": [
    "meta.dtypes"
   ]
  },
  {
   "cell_type": "code",
   "execution_count": 4,
   "id": "lucky-fighter",
   "metadata": {},
   "outputs": [
    {
     "data": {
      "text/plain": [
       "(25310, 16)"
      ]
     },
     "execution_count": 4,
     "metadata": {},
     "output_type": "execute_result"
    }
   ],
   "source": [
    "meta.shape"
   ]
  },
  {
   "cell_type": "code",
   "execution_count": 5,
   "id": "alleged-montgomery",
   "metadata": {},
   "outputs": [
    {
     "data": {
      "image/png": "[encoded data removed]",
      "text/plain": [
       "<Figure size 432x288 with 1 Axes>"
      ]
     },
     "metadata": {
      "needs_background": "light"
     },
     "output_type": "display_data"
    }
   ],
   "source": [
    "import matplotlib.pyplot as plt\n",
    "\n",
    "plt.scatter(meta['latitude'], meta['longitude'])\n",
    "plt.show()"
   ]
  },
  {
   "cell_type": "code",
   "execution_count": 15,
   "id": "binary-portuguese",
   "metadata": {},
   "outputs": [
    {
     "data": {
      "text/plain": [
       "California       8714\n",
       "Texas            6837\n",
       "Washington       2164\n",
       "New York         1331\n",
       "Georgia          1085\n",
       "Massachusetts    1028\n",
       "Michigan         1019\n",
       "Oregon            690\n",
       "Colorado          477\n",
       "Ohio              373\n",
       "Name: state_name, dtype: int64"
      ]
     },
     "execution_count": 15,
     "metadata": {},
     "output_type": "execute_result"
    }
   ],
   "source": [
    "data = pd.Series(meta['state_name'])\n",
    "\n",
    "#find frequencies of each value\n",
    "data.value_counts()[0:10]"
   ]
  },
  {
   "cell_type": "code",
   "execution_count": 7,
   "id": "distinct-lindsay",
   "metadata": {},
   "outputs": [
    {
     "data": {
      "text/plain": [
       "FULL_TIME                   21919\n",
       "CONTRACTOR                   1506\n",
       "2021-03-18T20:01:55.000Z       23\n",
       "INTERN                         11\n",
       "PART_TIME                      11\n",
       "2021-04-11T04:54:30.000Z        7\n",
       "2021-04-10T04:48:45.000Z        7\n",
       "2021-04-01T22:15:03.000Z        7\n",
       "2021-04-10T12:17:49.000Z        7\n",
       "2020-10-08T16:01:41.000Z        3\n",
       "Name: employmentType, dtype: int64"
      ]
     },
     "execution_count": 7,
     "metadata": {},
     "output_type": "execute_result"
    }
   ],
   "source": [
    "data = pd.Series(meta['employmentType'])\n",
    "\n",
    "#find frequencies of each value\n",
    "data.value_counts()[0:10]"
   ]
  },
  {
   "cell_type": "code",
   "execution_count": 8,
   "id": "mounted-office",
   "metadata": {},
   "outputs": [
    {
     "data": {
      "text/plain": [
       "Data Scientist                              15980\n",
       "Data amp Applied Scientist                   1024\n",
       "Data Scientist  Data Analytics               1017\n",
       "Data Scientist  Forecasting                  1001\n",
       "Data Scientist mfd                            969\n",
       "Data ScientistAnalytics                       966\n",
       "Data Scientist  Strategic Data Solutions      865\n",
       "Data Scientist Remote                         668\n",
       "Data Scientist  Research amp Economics        583\n",
       "Staff Data Scientist                          199\n",
       "Name: job_title, dtype: int64"
      ]
     },
     "execution_count": 8,
     "metadata": {},
     "output_type": "execute_result"
    }
   ],
   "source": [
    "data = pd.Series(meta['job_title'])\n",
    "\n",
    "#find frequencies of each value\n",
    "data.value_counts()[0:10]"
   ]
  },
  {
   "cell_type": "code",
   "execution_count": 9,
   "id": "extended-passenger",
   "metadata": {},
   "outputs": [
    {
     "data": {
      "image/png": "[encoded data removed]",
      "text/plain": [
       "<Figure size 432x288 with 1 Axes>"
      ]
     },
     "metadata": {
      "needs_background": "light"
     },
     "output_type": "display_data"
    }
   ],
   "source": [
    "## CONVERT SECONDS TO DAYS\n",
    "plt.hist((meta['duration']/(86400)), 10)\n",
    "plt.show()\n",
    "## THERE IS A JOB THAT IS > 200 days?!"
   ]
  },
  {
   "cell_type": "code",
   "execution_count": 10,
   "id": "mighty-input",
   "metadata": {},
   "outputs": [
    {
     "data": {
      "image/png": "[encoded data removed]",
      "text/plain": [
       "<Figure size 432x288 with 1 Axes>"
      ]
     },
     "metadata": {
      "needs_background": "light"
     },
     "output_type": "display_data"
    }
   ],
   "source": [
    "plt.hist( (meta['duration'][meta['duration'] < (50*86400)]/(86400)) )\n",
    "plt.show()"
   ]
  },
  {
   "cell_type": "code",
   "execution_count": 11,
   "id": "careful-gothic",
   "metadata": {},
   "outputs": [
    {
     "data": {
      "text/html": [
       "<div>\n",
       "<style scoped>\n",
       "    .dataframe tbody tr th:only-of-type {\n",
       "        vertical-align: middle;\n",
       "    }\n",
       "\n",
       "    .dataframe tbody tr th {\n",
       "        vertical-align: top;\n",
       "    }\n",
       "\n",
       "    .dataframe thead th {\n",
       "        text-align: right;\n",
       "    }\n",
       "</style>\n",
       "<table border=\"1\" class=\"dataframe\">\n",
       "  <thead>\n",
       "    <tr style=\"text-align: right;\">\n",
       "      <th></th>\n",
       "      <th>postalCode</th>\n",
       "      <th>latitude</th>\n",
       "      <th>longitude</th>\n",
       "      <th>duration</th>\n",
       "    </tr>\n",
       "  </thead>\n",
       "  <tbody>\n",
       "    <tr>\n",
       "      <th>count</th>\n",
       "      <td>25310.000000</td>\n",
       "      <td>25310.000000</td>\n",
       "      <td>25310.000000</td>\n",
       "      <td>2.531000e+04</td>\n",
       "    </tr>\n",
       "    <tr>\n",
       "      <th>mean</th>\n",
       "      <td>75019.418530</td>\n",
       "      <td>36.911841</td>\n",
       "      <td>-105.669694</td>\n",
       "      <td>3.370142e+06</td>\n",
       "    </tr>\n",
       "    <tr>\n",
       "      <th>std</th>\n",
       "      <td>27400.583569</td>\n",
       "      <td>5.170750</td>\n",
       "      <td>17.153291</td>\n",
       "      <td>1.723361e+06</td>\n",
       "    </tr>\n",
       "    <tr>\n",
       "      <th>min</th>\n",
       "      <td>1810.000000</td>\n",
       "      <td>25.774300</td>\n",
       "      <td>-124.032300</td>\n",
       "      <td>2.591994e+06</td>\n",
       "    </tr>\n",
       "    <tr>\n",
       "      <th>25%</th>\n",
       "      <td>73301.000000</td>\n",
       "      <td>32.912600</td>\n",
       "      <td>-122.083900</td>\n",
       "      <td>2.591999e+06</td>\n",
       "    </tr>\n",
       "    <tr>\n",
       "      <th>50%</th>\n",
       "      <td>80247.000000</td>\n",
       "      <td>37.386100</td>\n",
       "      <td>-104.881900</td>\n",
       "      <td>2.592000e+06</td>\n",
       "    </tr>\n",
       "    <tr>\n",
       "      <th>75%</th>\n",
       "      <td>94089.000000</td>\n",
       "      <td>40.392475</td>\n",
       "      <td>-95.424700</td>\n",
       "      <td>3.885712e+06</td>\n",
       "    </tr>\n",
       "    <tr>\n",
       "      <th>max</th>\n",
       "      <td>98164.000000</td>\n",
       "      <td>47.737700</td>\n",
       "      <td>-70.919635</td>\n",
       "      <td>3.836683e+07</td>\n",
       "    </tr>\n",
       "  </tbody>\n",
       "</table>\n",
       "</div>"
      ],
      "text/plain": [
       "         postalCode      latitude     longitude      duration\n",
       "count  25310.000000  25310.000000  25310.000000  2.531000e+04\n",
       "mean   75019.418530     36.911841   -105.669694  3.370142e+06\n",
       "std    27400.583569      5.170750     17.153291  1.723361e+06\n",
       "min     1810.000000     25.774300   -124.032300  2.591994e+06\n",
       "25%    73301.000000     32.912600   -122.083900  2.591999e+06\n",
       "50%    80247.000000     37.386100   -104.881900  2.592000e+06\n",
       "75%    94089.000000     40.392475    -95.424700  3.885712e+06\n",
       "max    98164.000000     47.737700    -70.919635  3.836683e+07"
      ]
     },
     "execution_count": 11,
     "metadata": {},
     "output_type": "execute_result"
    }
   ],
   "source": [
    "meta.describe()"
   ]
  },
  {
   "cell_type": "code",
   "execution_count": 12,
   "id": "conservative-installation",
   "metadata": {},
   "outputs": [
    {
     "name": "stdout",
     "output_type": "stream",
     "text": [
      "29.999930555555554 44.97351851851852 444.0605324074074\n"
     ]
    }
   ],
   "source": [
    "## the min duration of a job posting is 30 days- I'm assuming this is mandated by linkedin\n",
    "print(2.591994e+06 /(86400), 3.885712e+06/(86400), 3.836683e+07/(86400))"
   ]
  },
  {
   "cell_type": "code",
   "execution_count": 13,
   "id": "signal-draft",
   "metadata": {},
   "outputs": [
    {
     "data": {
      "text/html": [
       "<div>\n",
       "<style scoped>\n",
       "    .dataframe tbody tr th:only-of-type {\n",
       "        vertical-align: middle;\n",
       "    }\n",
       "\n",
       "    .dataframe tbody tr th {\n",
       "        vertical-align: top;\n",
       "    }\n",
       "\n",
       "    .dataframe thead th {\n",
       "        text-align: right;\n",
       "    }\n",
       "</style>\n",
       "<table border=\"1\" class=\"dataframe\">\n",
       "  <thead>\n",
       "    <tr style=\"text-align: right;\">\n",
       "      <th></th>\n",
       "      <th>job_title</th>\n",
       "      <th>individual_url</th>\n",
       "      <th>end_date</th>\n",
       "      <th>date_posted</th>\n",
       "      <th>description</th>\n",
       "      <th>employmentType</th>\n",
       "      <th>experienceRequirements</th>\n",
       "      <th>hiringOrganization</th>\n",
       "      <th>hiringType</th>\n",
       "      <th>hiringSubType</th>\n",
       "      <th>hiringDept</th>\n",
       "      <th>postalCode</th>\n",
       "      <th>latitude</th>\n",
       "      <th>longitude</th>\n",
       "      <th>state_name</th>\n",
       "      <th>duration</th>\n",
       "    </tr>\n",
       "  </thead>\n",
       "  <tbody>\n",
       "    <tr>\n",
       "      <th>469</th>\n",
       "      <td>Data EngineerData Scientist</td>\n",
       "      <td>https://www.linkedin.com/jobs/view/data-engineer-data-scientist-at-eteam-2226142220?refId=bdc38ca4-9604-4280-9c0d-3c92d3b15192trackingId=CjG6A3sW%2Bnw6pTz018pO4Q%3D%3Dposition=23pageNum=0trk=public_jobs_job-result-card_result-card_full-click</td>\n",
       "      <td>2021-08-07T16:59:29.000Z</td>\n",
       "      <td>2020-09-27T00:35:43.000Z</td>\n",
       "      <td>job_20_23.txt</td>\n",
       "      <td>FULL_TIME</td>\n",
       "      <td>Entry level</td>\n",
       "      <td>eTeam</td>\n",
       "      <td>Information Technology and Services</td>\n",
       "      <td>Computer Software</td>\n",
       "      <td>Financial Services</td>\n",
       "      <td>95148</td>\n",
       "      <td>37.3304</td>\n",
       "      <td>-121.7913</td>\n",
       "      <td>California</td>\n",
       "      <td>27188626.0</td>\n",
       "    </tr>\n",
       "    <tr>\n",
       "      <th>14036</th>\n",
       "      <td>Data ScientistsMachine Learning Engineer</td>\n",
       "      <td>https://www.linkedin.com/jobs/view/data-scientist-s-machine-learning-engineer-at-blue-horizon-tek-solutions-inc-2002482578?refId=c5148873-3025-4a4f-9ef9-9e575a096530trackingId=QM2ZywiY3qfTG%2FohNO9AJw%3D%3Dposition=12pageNum=0trk=public_jobs_job-result-card_result-card_full-click</td>\n",
       "      <td>2021-09-01T20:09:44.000Z</td>\n",
       "      <td>2020-08-16T18:17:04.000Z</td>\n",
       "      <td>job_607_12.txt</td>\n",
       "      <td>FULL_TIME</td>\n",
       "      <td>Entry level</td>\n",
       "      <td>Blue Horizon Tek Solutions</td>\n",
       "      <td>Inc.</td>\n",
       "      <td>Information Technology and Services</td>\n",
       "      <td>Computer Software</td>\n",
       "      <td>10005</td>\n",
       "      <td>40.7056</td>\n",
       "      <td>-74.0083</td>\n",
       "      <td>New York</td>\n",
       "      <td>32925160.0</td>\n",
       "    </tr>\n",
       "    <tr>\n",
       "      <th>14382</th>\n",
       "      <td>Data ScientistsMachine Learning Engineer</td>\n",
       "      <td>https://www.linkedin.com/jobs/view/data-scientist-s-machine-learning-engineer-at-blue-horizon-tek-solutions-inc-2002482578?refId=d13eb8fb-6199-49c1-a1c4-ae86b0bf218etrackingId=0bPn%2B1BE%2F0H83FvWJ1PsDA%3D%3Dposition=12pageNum=0trk=public_jobs_job-result-card_result-card_full-click</td>\n",
       "      <td>2021-09-01T20:09:44.000Z</td>\n",
       "      <td>2020-08-16T18:17:04.000Z</td>\n",
       "      <td>job_623_12.txt</td>\n",
       "      <td>FULL_TIME</td>\n",
       "      <td>Entry level</td>\n",
       "      <td>Blue Horizon Tek Solutions</td>\n",
       "      <td>Inc.</td>\n",
       "      <td>Information Technology and Services</td>\n",
       "      <td>Computer Software</td>\n",
       "      <td>10005</td>\n",
       "      <td>40.7056</td>\n",
       "      <td>-74.0083</td>\n",
       "      <td>New York</td>\n",
       "      <td>32925160.0</td>\n",
       "    </tr>\n",
       "    <tr>\n",
       "      <th>16945</th>\n",
       "      <td>Data ScientistsMachine Learning Engineer</td>\n",
       "      <td>https://www.linkedin.com/jobs/view/data-scientist-s-machine-learning-engineer-at-blue-horizon-tek-solutions-inc-2002482578?refId=cafd5a68-e39e-4422-97af-d10f846516a2trackingId=VcutmDh3OH9VsPrKYtTepA%3D%3Dposition=12pageNum=0trk=public_jobs_job-result-card_result-card_full-click</td>\n",
       "      <td>2021-09-01T20:09:44.000Z</td>\n",
       "      <td>2020-08-16T18:17:04.000Z</td>\n",
       "      <td>job_734_12.txt</td>\n",
       "      <td>FULL_TIME</td>\n",
       "      <td>Entry level</td>\n",
       "      <td>Blue Horizon Tek Solutions</td>\n",
       "      <td>Inc.</td>\n",
       "      <td>Information Technology and Services</td>\n",
       "      <td>Computer Software</td>\n",
       "      <td>10005</td>\n",
       "      <td>40.7056</td>\n",
       "      <td>-74.0083</td>\n",
       "      <td>New York</td>\n",
       "      <td>32925160.0</td>\n",
       "    </tr>\n",
       "    <tr>\n",
       "      <th>20685</th>\n",
       "      <td>Head of Data Science Team</td>\n",
       "      <td>https://www.linkedin.com/jobs/view/head-of-data-science-team-at-quantitative-systems-2316848655?refId=01d64cec-db77-47e7-9473-5484cd1a9313trackingId=8h3UPYi9ZGLuxI%2Fyp6KvXg%3D%3Dposition=1pageNum=0trk=public_jobs_job-result-card_result-card_full-click</td>\n",
       "      <td>2022-06-27T15:16:45.000Z</td>\n",
       "      <td>2021-04-09T13:49:37.000Z</td>\n",
       "      <td>job_900_1.txt</td>\n",
       "      <td>FULL_TIME</td>\n",
       "      <td>Mid-Senior level</td>\n",
       "      <td>Quantitative Systems</td>\n",
       "      <td>Information Technology and Services</td>\n",
       "      <td>New York</td>\n",
       "      <td>NY</td>\n",
       "      <td>10132</td>\n",
       "      <td>40.7808</td>\n",
       "      <td>-73.9772</td>\n",
       "      <td>New York</td>\n",
       "      <td>38366828.0</td>\n",
       "    </tr>\n",
       "    <tr>\n",
       "      <th>22793</th>\n",
       "      <td>Head of Data Science Team</td>\n",
       "      <td>https://www.linkedin.com/jobs/view/head-of-data-science-team-at-quantitative-systems-2316848655?refId=a8eeaeef-52f3-444c-9e97-22e1b2b490c0trackingId=m%2FXChWJ5v8Zwt3Ti9VsLlQ%3D%3Dposition=2pageNum=0trk=public_jobs_job-result-card_result-card_full-click</td>\n",
       "      <td>2022-06-27T15:16:45.000Z</td>\n",
       "      <td>2021-04-09T13:49:37.000Z</td>\n",
       "      <td>job_996_2.txt</td>\n",
       "      <td>FULL_TIME</td>\n",
       "      <td>Mid-Senior level</td>\n",
       "      <td>Quantitative Systems</td>\n",
       "      <td>Information Technology and Services</td>\n",
       "      <td>New York</td>\n",
       "      <td>NY</td>\n",
       "      <td>10132</td>\n",
       "      <td>40.7808</td>\n",
       "      <td>-73.9772</td>\n",
       "      <td>New York</td>\n",
       "      <td>38366828.0</td>\n",
       "    </tr>\n",
       "    <tr>\n",
       "      <th>24760</th>\n",
       "      <td>Data EngineerData Scientist</td>\n",
       "      <td>https://www.linkedin.com/jobs/view/data-engineer-data-scientist-at-eteam-2226142220?refId=4e383c46-fa30-43cf-885f-6bede2fcf277trackingId=DRvUEZfaIIPQBSoOI9N2rg%3D%3Dposition=6pageNum=0trk=public_jobs_job-result-card_result-card_full-click</td>\n",
       "      <td>2021-08-07T16:59:29.000Z</td>\n",
       "      <td>2020-09-27T00:35:43.000Z</td>\n",
       "      <td>job_1085_6.txt</td>\n",
       "      <td>FULL_TIME</td>\n",
       "      <td>Entry level</td>\n",
       "      <td>eTeam</td>\n",
       "      <td>Information Technology and Services</td>\n",
       "      <td>Computer Software</td>\n",
       "      <td>Financial Services</td>\n",
       "      <td>95148</td>\n",
       "      <td>37.3304</td>\n",
       "      <td>-121.7913</td>\n",
       "      <td>California</td>\n",
       "      <td>27188626.0</td>\n",
       "    </tr>\n",
       "  </tbody>\n",
       "</table>\n",
       "</div>"
      ],
      "text/plain": [
       "                                      job_title  \\\n",
       "469                 Data EngineerData Scientist   \n",
       "14036  Data ScientistsMachine Learning Engineer   \n",
       "14382  Data ScientistsMachine Learning Engineer   \n",
       "16945  Data ScientistsMachine Learning Engineer   \n",
       "20685                 Head of Data Science Team   \n",
       "22793                 Head of Data Science Team   \n",
       "24760               Data EngineerData Scientist   \n",
       "\n",
       "                                                                                                                                                                                                                                                                                   individual_url  \\\n",
       "469                                             https://www.linkedin.com/jobs/view/data-engineer-data-scientist-at-eteam-2226142220?refId=bdc38ca4-9604-4280-9c0d-3c92d3b15192trackingId=CjG6A3sW%2Bnw6pTz018pO4Q%3D%3Dposition=23pageNum=0trk=public_jobs_job-result-card_result-card_full-click   \n",
       "14036    https://www.linkedin.com/jobs/view/data-scientist-s-machine-learning-engineer-at-blue-horizon-tek-solutions-inc-2002482578?refId=c5148873-3025-4a4f-9ef9-9e575a096530trackingId=QM2ZywiY3qfTG%2FohNO9AJw%3D%3Dposition=12pageNum=0trk=public_jobs_job-result-card_result-card_full-click   \n",
       "14382  https://www.linkedin.com/jobs/view/data-scientist-s-machine-learning-engineer-at-blue-horizon-tek-solutions-inc-2002482578?refId=d13eb8fb-6199-49c1-a1c4-ae86b0bf218etrackingId=0bPn%2B1BE%2F0H83FvWJ1PsDA%3D%3Dposition=12pageNum=0trk=public_jobs_job-result-card_result-card_full-click   \n",
       "16945      https://www.linkedin.com/jobs/view/data-scientist-s-machine-learning-engineer-at-blue-horizon-tek-solutions-inc-2002482578?refId=cafd5a68-e39e-4422-97af-d10f846516a2trackingId=VcutmDh3OH9VsPrKYtTepA%3D%3Dposition=12pageNum=0trk=public_jobs_job-result-card_result-card_full-click   \n",
       "20685                                https://www.linkedin.com/jobs/view/head-of-data-science-team-at-quantitative-systems-2316848655?refId=01d64cec-db77-47e7-9473-5484cd1a9313trackingId=8h3UPYi9ZGLuxI%2Fyp6KvXg%3D%3Dposition=1pageNum=0trk=public_jobs_job-result-card_result-card_full-click   \n",
       "22793                                https://www.linkedin.com/jobs/view/head-of-data-science-team-at-quantitative-systems-2316848655?refId=a8eeaeef-52f3-444c-9e97-22e1b2b490c0trackingId=m%2FXChWJ5v8Zwt3Ti9VsLlQ%3D%3Dposition=2pageNum=0trk=public_jobs_job-result-card_result-card_full-click   \n",
       "24760                                              https://www.linkedin.com/jobs/view/data-engineer-data-scientist-at-eteam-2226142220?refId=4e383c46-fa30-43cf-885f-6bede2fcf277trackingId=DRvUEZfaIIPQBSoOI9N2rg%3D%3Dposition=6pageNum=0trk=public_jobs_job-result-card_result-card_full-click   \n",
       "\n",
       "                       end_date               date_posted     description  \\\n",
       "469    2021-08-07T16:59:29.000Z  2020-09-27T00:35:43.000Z   job_20_23.txt   \n",
       "14036  2021-09-01T20:09:44.000Z  2020-08-16T18:17:04.000Z  job_607_12.txt   \n",
       "14382  2021-09-01T20:09:44.000Z  2020-08-16T18:17:04.000Z  job_623_12.txt   \n",
       "16945  2021-09-01T20:09:44.000Z  2020-08-16T18:17:04.000Z  job_734_12.txt   \n",
       "20685  2022-06-27T15:16:45.000Z  2021-04-09T13:49:37.000Z   job_900_1.txt   \n",
       "22793  2022-06-27T15:16:45.000Z  2021-04-09T13:49:37.000Z   job_996_2.txt   \n",
       "24760  2021-08-07T16:59:29.000Z  2020-09-27T00:35:43.000Z  job_1085_6.txt   \n",
       "\n",
       "      employmentType experienceRequirements          hiringOrganization  \\\n",
       "469        FULL_TIME            Entry level                       eTeam   \n",
       "14036      FULL_TIME            Entry level  Blue Horizon Tek Solutions   \n",
       "14382      FULL_TIME            Entry level  Blue Horizon Tek Solutions   \n",
       "16945      FULL_TIME            Entry level  Blue Horizon Tek Solutions   \n",
       "20685      FULL_TIME       Mid-Senior level        Quantitative Systems   \n",
       "22793      FULL_TIME       Mid-Senior level        Quantitative Systems   \n",
       "24760      FULL_TIME            Entry level                       eTeam   \n",
       "\n",
       "                                hiringType  \\\n",
       "469    Information Technology and Services   \n",
       "14036                                 Inc.   \n",
       "14382                                 Inc.   \n",
       "16945                                 Inc.   \n",
       "20685  Information Technology and Services   \n",
       "22793  Information Technology and Services   \n",
       "24760  Information Technology and Services   \n",
       "\n",
       "                             hiringSubType          hiringDept  postalCode  \\\n",
       "469                      Computer Software  Financial Services       95148   \n",
       "14036  Information Technology and Services   Computer Software       10005   \n",
       "14382  Information Technology and Services   Computer Software       10005   \n",
       "16945  Information Technology and Services   Computer Software       10005   \n",
       "20685                             New York                  NY       10132   \n",
       "22793                             New York                  NY       10132   \n",
       "24760                    Computer Software  Financial Services       95148   \n",
       "\n",
       "       latitude  longitude  state_name    duration  \n",
       "469     37.3304  -121.7913  California  27188626.0  \n",
       "14036   40.7056   -74.0083    New York  32925160.0  \n",
       "14382   40.7056   -74.0083    New York  32925160.0  \n",
       "16945   40.7056   -74.0083    New York  32925160.0  \n",
       "20685   40.7808   -73.9772    New York  38366828.0  \n",
       "22793   40.7808   -73.9772    New York  38366828.0  \n",
       "24760   37.3304  -121.7913  California  27188626.0  "
      ]
     },
     "execution_count": 13,
     "metadata": {},
     "output_type": "execute_result"
    }
   ],
   "source": [
    "meta[meta['duration'] > (300*86400)]"
   ]
  },
  {
   "cell_type": "code",
   "execution_count": 14,
   "id": "relevant-bahamas",
   "metadata": {},
   "outputs": [
    {
     "data": {
      "text/plain": [
       "Not Applicable      8272\n",
       "Mid-Senior level    7870\n",
       "Entry level         6448\n",
       "FULL_TIME           1801\n",
       "Associate            805\n",
       "Director              35\n",
       "Executive             16\n",
       "Internship             4\n",
       "job_1090_21.txt        1\n",
       "job_606_6.txt          1\n",
       "Name: experienceRequirements, dtype: int64"
      ]
     },
     "execution_count": 14,
     "metadata": {},
     "output_type": "execute_result"
    }
   ],
   "source": [
    "data = pd.Series(meta['experienceRequirements'])\n",
    "\n",
    "#find frequencies of each value\n",
    "data.value_counts()[0:10]"
   ]
  },
  {
   "cell_type": "code",
   "execution_count": null,
   "id": "motivated-ferry",
   "metadata": {},
   "outputs": [],
   "source": []
  }
 ],
 "metadata": {
  "kernelspec": {
   "display_name": "Python 3",
   "language": "python",
   "name": "python3"
  },
  "language_info": {
   "codemirror_mode": {
    "name": "ipython",
    "version": 3
   },
   "file_extension": ".py",
   "mimetype": "text/x-python",
   "name": "python",
   "nbconvert_exporter": "python",
   "pygments_lexer": "ipython3",
   "version": "3.8.5"
  }
 },
 "nbformat": 4,
 "nbformat_minor": 5
}
